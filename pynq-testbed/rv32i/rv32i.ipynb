{
 "cells": [
  {
   "cell_type": "code",
   "execution_count": 11,
   "id": "727b508f",
   "metadata": {},
   "outputs": [],
   "source": [
    "from pynq import Overlay\n",
    "from pynq.lib import AxiGPIO\n",
    "import numpy as np\n",
    "import time\n",
    "from tqdm.notebook import tqdm\n",
    "\n",
    "ol = Overlay(\"top.bit\")"
   ]
  },
  {
   "cell_type": "code",
   "execution_count": 18,
   "id": "1b0083bb",
   "metadata": {},
   "outputs": [],
   "source": [
    "io_ctrl  = ol.ip_dict['axi_gpio_ctrl']\n",
    "clk  = AxiGPIO(io_ctrl).channel1\n",
    "rstn = AxiGPIO(io_ctrl).channel2\n",
    "\n",
    "io_odata_opc  = ol.ip_dict['axi_gpio_dout']\n",
    "io_rdata_out  = AxiGPIO(io_odata_opc).channel1\n",
    "io_raddr_out  = AxiGPIO(io_odata_opc).channel2\n",
    "\n",
    "io_idata    = ol.ip_dict['axi_gpio_din1']\n",
    "io_waddr_in = AxiGPIO(io_idata).channel1\n",
    "io_wdata_in = AxiGPIO(io_idata).channel2\n",
    "\n",
    "io_ipc_state    = ol.ip_dict['axi_gpio_din2']\n",
    "io_raddr_in     = AxiGPIO(io_ipc_state).channel1\n",
    "io_wen_state_in = AxiGPIO(io_ipc_state).channel2"
   ]
  },
  {
   "cell_type": "code",
   "execution_count": 19,
   "id": "038e030c",
   "metadata": {},
   "outputs": [],
   "source": [
    "def clk_event():\n",
    "    clk.write(0, 0b1)\n",
    "    #time.sleep(0.1)\n",
    "    clk.write(1, 0b1)\n",
    "    #time.sleep(0.1)\n",
    "    clk.write(0, 0b1)\n",
    "    \n",
    "def mem_read(mem, addr):\n",
    "    addr_max = len(mem)\n",
    "    ret = np.uint32(0)\n",
    "    for i in range(4):\n",
    "        ret += (mem[addr+i] << (i * 8)) if addr + i < addr_max else 0\n",
    "    return ret.item()\n",
    "\n",
    "def mem_write(mem, addr, data):\n",
    "    addr_max = len(mem)\n",
    "    for i in range(4):\n",
    "        if (addr+i) < addr_max:\n",
    "            mem[addr+i] = (data >> (i*8)) & 0xff"
   ]
  },
  {
   "cell_type": "code",
   "execution_count": 21,
   "id": "00b75311",
   "metadata": {},
   "outputs": [
    {
     "data": {
      "application/vnd.jupyter.widget-view+json": {
       "model_id": "f472425ff75f4bd8a92e72e5cd2ac8f1",
       "version_major": 2,
       "version_minor": 0
      },
      "text/plain": [
       "  0%|          | 0/1000 [00:00<?, ?it/s]"
      ]
     },
     "metadata": {},
     "output_type": "display_data"
    },
    {
     "name": "stdout",
     "output_type": "stream",
     "text": [
      "Value at mem[0x1000](0x11111111 for success): 0x11111111\n"
     ]
    }
   ],
   "source": [
    "raddr = 0\n",
    "mem = np.fromfile(\"./lb.bin\", np.uint8)\n",
    "\n",
    "rstn.write(0, 0x01)\n",
    "clk_event()\n",
    "rstn.write(1, 0x01)\n",
    "\n",
    "for i in tqdm(range(1000)):\n",
    "    rdata = mem_read(mem, raddr)\n",
    "    io_raddr_out.write(raddr, 0xffffffff)\n",
    "    io_rdata_out.write(rdata, 0xffffffff)\n",
    "    #time.sleep(0.1)\n",
    "    waddr = io_waddr_in.read()\n",
    "    wdata = io_wdata_in.read()\n",
    "    wen   = io_wen_state_in.read() & 0x1\n",
    "    raddr = io_raddr_in.read()\n",
    "    if (wen == 1):\n",
    "        #print(\"{:08x}: {:08x}\".format(w_addr, w_data))\n",
    "        mem_write(mem, waddr, wdata)\n",
    "    clk_event()\n",
    "    \n",
    "print(\"Value at mem[0x1000](0x11111111 for success): {:#10x}\".format(mem_read(mem, 0x1000)))"
   ]
  },
  {
   "cell_type": "code",
   "execution_count": null,
   "id": "8f297842",
   "metadata": {},
   "outputs": [],
   "source": []
  }
 ],
 "metadata": {
  "kernelspec": {
   "display_name": "Python 3 (ipykernel)",
   "language": "python",
   "name": "python3"
  },
  "language_info": {
   "codemirror_mode": {
    "name": "ipython",
    "version": 3
   },
   "file_extension": ".py",
   "mimetype": "text/x-python",
   "name": "python",
   "nbconvert_exporter": "python",
   "pygments_lexer": "ipython3",
   "version": "3.10.4"
  }
 },
 "nbformat": 4,
 "nbformat_minor": 5
}
